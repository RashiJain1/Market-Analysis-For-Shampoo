{
 "cells": [
  {
   "cell_type": "code",
   "execution_count": 1,
   "metadata": {},
   "outputs": [],
   "source": [
    "import bs4 as bs\n",
    "import csv\n",
    "import requests\n",
    "import pandas as pd"
   ]
  },
  {
   "cell_type": "code",
   "execution_count": 2,
   "metadata": {},
   "outputs": [],
   "source": [
    "try:\n",
    "    from urllib.request import urlopen\n",
    "except ImportError:\n",
    "    from urllib2 import urlopen"
   ]
  },
  {
   "cell_type": "code",
   "execution_count": 3,
   "metadata": {},
   "outputs": [],
   "source": [
    "sourcehtml = urlopen(\"https://www.flipkart.com/search?q=herbal%20shampoo&otracker=search&otracker1=search&marketplace=FLIPKART&as-show=on&as=off\")\n",
    "soup = bs.BeautifulSoup(sourcehtml,\"lxml\")"
   ]
  },
  {
   "cell_type": "code",
   "execution_count": null,
   "metadata": {
    "scrolled": true
   },
   "outputs": [],
   "source": [
    "print(soup)"
   ]
  },
  {
   "cell_type": "code",
   "execution_count": 4,
   "metadata": {},
   "outputs": [],
   "source": [
    "#getting ratings\n",
    "ratings_list=[]\n",
    "for rating in soup.findAll(\"div\",{\"class\" : \"hGSR34\"}):\n",
    "    ratings_list.append(float(rating.text))\n",
    "\n",
    "ratings_list = pd.DataFrame({\"Ratings\":ratings_list})"
   ]
  },
  {
   "cell_type": "code",
   "execution_count": 5,
   "metadata": {},
   "outputs": [],
   "source": [
    "#getting reviewer's count\n",
    "reviewercounts_list=[]\n",
    "for reviewercount in soup.findAll(\"span\",{\"class\" : \"_38sUEc\"}):\n",
    "    reviewercounts_list.append(reviewercount.text[1:-1].replace(\",\",\"\"))\n",
    "\n",
    "reviewercounts_list = pd.DataFrame({\"Number of Reviewers\":reviewercounts_list})"
   ]
  },
  {
   "cell_type": "code",
   "execution_count": 6,
   "metadata": {},
   "outputs": [],
   "source": [
    "#getting quantity\n",
    "qty_list = [qty1.text for qty1 in soup.findAll(\"div\",{\"class\" : \"_1rcHFq\"})]\n",
    "\n",
    "qty_list = pd.DataFrame({\"Quantity\":qty_list})"
   ]
  },
  {
   "cell_type": "code",
   "execution_count": 7,
   "metadata": {},
   "outputs": [],
   "source": [
    "#getting listed price\n",
    "distprices_list = [distprice.text for distprice in soup.findAll(\"div\",{\"class\" : \"_1vC4OE\"})]\n",
    "\n",
    "distprices_list = pd.DataFrame({\"Listed Price\":distprices_list})"
   ]
  },
  {
   "cell_type": "code",
   "execution_count": 8,
   "metadata": {},
   "outputs": [],
   "source": [
    "#getting MRP price\n",
    "mrp_list = [actualprice.text for actualprice in soup.findAll(\"div\",{\"class\" : \"_3auQ3N\"})]\n",
    "mrp_list = pd.DataFrame({'Maxiumum Retail Price': mrp_list})"
   ]
  },
  {
   "cell_type": "code",
   "execution_count": null,
   "metadata": {},
   "outputs": [],
   "source": [
    "type(mrp_list)"
   ]
  },
  {
   "cell_type": "code",
   "execution_count": 9,
   "metadata": {},
   "outputs": [],
   "source": [
    "#getting product names\n",
    "names_list=[]\n",
    "for name in soup.findAll(\"a\",{\"class\" : \"_2cLu-l\"}):\n",
    "    names_list.append(name.text)\n",
    "\n",
    "names_list = pd.DataFrame({'Product Name': names_list})"
   ]
  },
  {
   "cell_type": "code",
   "execution_count": null,
   "metadata": {},
   "outputs": [],
   "source": [
    "#py_df1 = pd.DataFrame( {'ReviewerCount': reviewercounts_list})\n",
    "#print(py_df1)"
   ]
  },
  {
   "cell_type": "code",
   "execution_count": null,
   "metadata": {},
   "outputs": [],
   "source": [
    "#py_df2 = pd.DataFrame( {'Names': qty_list})\n",
    "#print(py_df2)"
   ]
  },
  {
   "cell_type": "code",
   "execution_count": 11,
   "metadata": {},
   "outputs": [],
   "source": [
    "#dataframe1 = [py_df1,py_df2]\n",
    "dataframe1 = pd.concat([names_list, qty_list, reviewercounts_list, ratings_list, mrp_list,  distprices_list],axis=1)"
   ]
  },
  {
   "cell_type": "code",
   "execution_count": null,
   "metadata": {},
   "outputs": [],
   "source": [
    "dataframe1.setindex(inplace=True)"
   ]
  },
  {
   "cell_type": "code",
   "execution_count": 13,
   "metadata": {},
   "outputs": [
    {
     "name": "stdout",
     "output_type": "stream",
     "text": [
      "                                         Product Name Quantity  \\\n",
      "0   KAZIMA Onion Herbal Shampoo 200ML with Multi-V...   200 ml   \n",
      "1      Org'era Herbal shampoo Fenugreek and clove oil   200 ml   \n",
      "2     Khadi Herbal Amla & Bhringraj Shampoo-PAck of 2   210 ml   \n",
      "3               Khadi Herbal Amla & Bhringraj Shampoo   210 ml   \n",
      "4   Khadi Natural Shikakai Herbal Shampoo SLS & Pa...   210 ml   \n",
      "5   Lotus Kera-Veda Shikakai-Amla Herbal Shampoo -...   400 ml   \n",
      "6               Dr. JRK's Lumina Herbal Shampoo 100ml   100 ml   \n",
      "7       Khadi Natural Herbal Amla & Bhringraj Shampoo      420   \n",
      "8   Trichup Healthy Long & Strong Herbal Hair Sham...   200 ml   \n",
      "9   SBL ARNICA MONTANA HERBAL SHAMPOO WITH THUJA,J...   400 ml   \n",
      "10                       Payal's Herbal Shampoo 400ml   400 ml   \n",
      "11       Khadi Natural Herbal Shampoo Neem & Aloevera   420 ml   \n",
      "12       Khadi Herbal Amla & Bhringraj Shampoo- 210ml   210 ml   \n",
      "13        Aryanveda Herbals Herbal Volumizing Shampoo  1000 ml   \n",
      "14       Khadi Herbal Amla and Reetha Shampoo, 420 ml   420 ml   \n",
      "15  Khadi Pure Herbal Amla & Reetha And Green Appl...   420 ml   \n",
      "16  Khadi Red Onion Shampoo/Cleanser For Best Anti...   210 ml   \n",
      "17  Lotus Herbal Amlapura Shikakai Amla Herbal Sha...   200 ml   \n",
      "18              Khadi Natural herbal shampoo shikakai   420 ml   \n",
      "19  Continent Spice NATURAL & HERBAL SHIKAKAI SHAM...   210 ml   \n",
      "20  The Khadi Mart Herbal (Neem) Shampoo - (Pack o...   420 ml   \n",
      "21     Khadi Herbal Amla & Reetha Shampoo (Pack of 2)   420 ml   \n",
      "22       KHADI PURE GRAMODYOG HERBAL SATRITHA SHAMPOO   420 ml   \n",
      "23       Herbal Essences Argan Oil of Morocco Shampoo   400 ml   \n",
      "24                     Olivia HERBAL SHAMPOO -PROTEIN   500 ml   \n",
      "25                          Ayur Herbal Lemon Shampoo   500 ml   \n",
      "26  Khadi Pure HERBAL NEEM SAT SHAMPOO & SHIKAKAI ...   420 ml   \n",
      "27  Org'era Herbal Hair Growth Shampoo Rosemary & ...   200 ml   \n",
      "28  Khadi Pure Herbal Green Apple Conditioner+Sham...   420 ml   \n",
      "29  KHADI NATURAL HERBAL Amla & Bringraj Shampoo 2...   200 ml   \n",
      "30                Comex HERBAL SHAMPOO(PACK OF THREE)   300 ml   \n",
      "31  Khadi Pure Herbal Green Apple Conditioner+Shampoo   840 ml   \n",
      "32     Khadi Herbal Herbal Satritha Shampoo Pack of 2   420 ml   \n",
      "33  La'Decus Natural Hair Cleanser/Shampoo 250ml/8...   250 ml   \n",
      "34  Trichup Hair Fall Control Herbal Shampoo 200 m...   200 ml   \n",
      "35  Parvati Khadi Gramudyog Khadi Herbal Amla & Bh...   210 ml   \n",
      "36  SBL ARNICA MONTANA HERBAL SHAMPOO WITH THUJA,J...   600 ml   \n",
      "37   Khadi Herbal Neem & Aloevera Shampoo (Pack of 2)   420 ml   \n",
      "38  Khadi Natural Herbal Shampoo Henna & Tulsi Ext...   420 ml   \n",
      "39  nagbai hair care extraordinary cow ghee protei...   200 ml   \n",
      "\n",
      "   Number of Reviewers  Ratings Maxiumum Retail Price Listed Price  \n",
      "0                  300      3.7                  ₹219         ₹175  \n",
      "1                   16      4.4                  ₹290         ₹219  \n",
      "2                  392      4.1                  ₹280         ₹180  \n",
      "3                 2463      3.9                  ₹145         ₹109  \n",
      "4                   10      4.4                  ₹180         ₹105  \n",
      "5                  590      4.2                  ₹420         ₹279  \n",
      "6                   57      4.1                  ₹180         ₹178  \n",
      "7                 1807      4.0                  ₹290         ₹226  \n",
      "8                   35      4.1                  ₹320         ₹265  \n",
      "9                  201      4.3                  ₹340         ₹250  \n",
      "10                 344      4.4                  ₹470         ₹449  \n",
      "11                  11      3.7                  ₹150         ₹450  \n",
      "12                 150      4.1                  ₹400         ₹105  \n",
      "13                   3      3.3                  ₹300         ₹323  \n",
      "14                   6      4.5                  ₹250         ₹166  \n",
      "15                  26      4.0                  ₹550         ₹188  \n",
      "16                  13      4.5                  ₹210         ₹378  \n",
      "17                 138      4.1                  ₹290         ₹189  \n",
      "18                  83      4.0                  ₹265         ₹213  \n",
      "19                  10      4.7                  ₹250         ₹186  \n",
      "20                 626      4.3                  ₹450         ₹248  \n",
      "21                  16      4.1                  ₹250         ₹339  \n",
      "22                  12      4.3                  ₹600         ₹188  \n",
      "23                  33      4.4                  ₹320         ₹427  \n",
      "24                 126      4.2                  ₹290         ₹185  \n",
      "25                  46      4.3                  ₹270         ₹250  \n",
      "26                 496      3.5                  ₹380         ₹235  \n",
      "27                   2      4.0                  ₹500         ₹209  \n",
      "28                  78      4.0                  ₹300         ₹177  \n",
      "29                1475      3.9                  ₹680         ₹280  \n",
      "30                  36      4.2                  ₹320         ₹357  \n",
      "31                   6      3.8                  ₹140         ₹399  \n",
      "32                   7      5.0                  ₹450         ₹200  \n",
      "33                 NaN      NaN                  ₹280         ₹380  \n",
      "34                 NaN      NaN                  ₹470         ₹290  \n",
      "35                 NaN      NaN                  ₹299          ₹98  \n",
      "36                 NaN      NaN                   NaN         ₹408  \n",
      "37                 NaN      NaN                   NaN         ₹214  \n",
      "38                 NaN      NaN                   NaN         ₹345  \n",
      "39                 NaN      NaN                   NaN         ₹185  \n"
     ]
    }
   ],
   "source": [
    "print(dataframe1)"
   ]
  },
  {
   "cell_type": "code",
   "execution_count": 15,
   "metadata": {},
   "outputs": [],
   "source": [
    "dataframe1.to_csv(\"C:/Users/Amrit/Desktop/ISB Study Material/Term 1/Data Collection 1/Project/DC Assignment.csv\")"
   ]
  }
 ],
 "metadata": {
  "kernelspec": {
   "display_name": "Python 3",
   "language": "python",
   "name": "python3"
  },
  "language_info": {
   "codemirror_mode": {
    "name": "ipython",
    "version": 3
   },
   "file_extension": ".py",
   "mimetype": "text/x-python",
   "name": "python",
   "nbconvert_exporter": "python",
   "pygments_lexer": "ipython3",
   "version": "3.7.3"
  }
 },
 "nbformat": 4,
 "nbformat_minor": 2
}
